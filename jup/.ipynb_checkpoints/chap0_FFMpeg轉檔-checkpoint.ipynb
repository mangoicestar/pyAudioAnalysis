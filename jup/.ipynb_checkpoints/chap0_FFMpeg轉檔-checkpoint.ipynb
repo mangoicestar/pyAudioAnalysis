{
 "cells": [
  {
   "cell_type": "markdown",
   "metadata": {},
   "source": [
    "##### mp3 to wav \n",
    "\n",
    "- ffmpeg -i KH01_01.mp3 -acodec pcm_s16le -ar 44100 KH01_01.wav;\n",
    "- ffmpeg -i KH01_02.mp3 -acodec pcm_s16le -ar 44100 KH01_02.wav;\n",
    "- ffmpeg -i KH01_03.mp3 -acodec pcm_s16le -ar 44100 KH01_03.wav;\n",
    "- ffmpeg -i KH01_04.mp3 -acodec pcm_s16le -ar 44100 KH01_04.wav;\n",
    "- ffmpeg -i KH01_05.mp3 -acodec pcm_s16le -ar 44100 KH01_05.wav;\n",
    "- ffmpeg -i KH01_06.mp3 -acodec pcm_s16le -ar 44100 KH01_06.wav;\n",
    "- ffmpeg -i KH01_07.mp3 -acodec pcm_s16le -ar 44100 KH01_07.wav;\n",
    "- ffmpeg -i KH01_08.mp3 -acodec pcm_s16le -ar 44100 KH01_08.wav;\n",
    "- ffmpeg -i KH01_09.mp3 -acodec pcm_s16le -ar 44100 KH01_09.wav;\n",
    "- ffmpeg -i KH01_10.mp3 -acodec pcm_s16le -ar 44100 KH01_10.wav;\n",
    "- ffmpeg -i KHida01.mp3 -acodec pcm_s16be -ar 44100 KHida01.wav;\n"
   ]
  },
  {
   "cell_type": "markdown",
   "metadata": {},
   "source": [
    "##### $ ffmpeg -formats | grep PCM \n",
    "\n",
    "- DE f32be           PCM 32-bit floating-point big-endian\n",
    "- DE f32le           PCM 32-bit floating-point little-endian\n",
    "- DE f64be           PCM 64-bit floating-point big-endian\n",
    "- DE f64le           PCM 64-bit floating-point little-endian\n",
    "- DE s16be           PCM signed 16-bit big-endian\n",
    "- DE s16le           PCM signed 16-bit little-endian\n",
    "- DE s24be           PCM signed 24-bit big-endian\n",
    "- DE s24le           PCM signed 24-bit little-endian\n",
    "- DE s32be           PCM signed 32-bit big-endian\n",
    "- DE s32le           PCM signed 32-bit little-endian\n",
    "- DE u16be           PCM unsigned 16-bit big-endian\n",
    "- DE u16le           PCM unsigned 16-bit little-endian\n",
    "- DE u24be           PCM unsigned 24-bit big-endian\n",
    "- DE u24le           PCM unsigned 24-bit little-endian\n",
    "- DE u32be           PCM unsigned 32-bit big-endian\n",
    "- DE u32le           PCM unsigned 32-bit little-endian"
   ]
  },
  {
   "cell_type": "code",
   "execution_count": null,
   "metadata": {
    "collapsed": true
   },
   "outputs": [],
   "source": []
  }
 ],
 "metadata": {
  "kernelspec": {
   "display_name": "Python 2",
   "language": "python",
   "name": "python2"
  },
  "language_info": {
   "codemirror_mode": {
    "name": "ipython",
    "version": 2
   },
   "file_extension": ".py",
   "mimetype": "text/x-python",
   "name": "python",
   "nbconvert_exporter": "python",
   "pygments_lexer": "ipython2",
   "version": "2.7.13"
  }
 },
 "nbformat": 4,
 "nbformat_minor": 2
}
