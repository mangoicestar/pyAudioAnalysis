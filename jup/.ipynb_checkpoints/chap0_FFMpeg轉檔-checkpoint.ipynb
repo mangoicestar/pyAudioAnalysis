{
 "cells": [
  {
   "cell_type": "markdown",
   "metadata": {},
   "source": [
    "##### mp3 to wav \n",
    "\n",
    "- ffmpeg -i KH01_01.mp3 -acodec pcm_s16le -ar 44100 KH01_01.wav;\n",
    "- ffmpeg -i KH01_02.mp3 -acodec pcm_s16le -ar 44100 KH01_02.wav;\n",
    "- ffmpeg -i KH01_03.mp3 -acodec pcm_s16le -ar 44100 KH01_03.wav;\n",
    "- ffmpeg -i KH01_04.mp3 -acodec pcm_s16le -ar 44100 KH01_04.wav;\n",
    "- ffmpeg -i KH01_05.mp3 -acodec pcm_s16le -ar 44100 KH01_05.wav;\n",
    "- ffmpeg -i KH01_06.mp3 -acodec pcm_s16le -ar 44100 KH01_06.wav;\n",
    "- ffmpeg -i KH01_07.mp3 -acodec pcm_s16le -ar 44100 KH01_07.wav;\n",
    "- ffmpeg -i KH01_08.mp3 -acodec pcm_s16le -ar 44100 KH01_08.wav;\n",
    "- ffmpeg -i KH01_09.mp3 -acodec pcm_s16le -ar 44100 KH01_09.wav;\n",
    "- ffmpeg -i KH01_10.mp3 -acodec pcm_s16le -ar 44100 KH01_10.wav;\n"
   ]
  },
  {
   "cell_type": "code",
   "execution_count": null,
   "metadata": {},
   "outputs": [],
   "source": []
  },
  {
   "cell_type": "code",
   "execution_count": null,
   "metadata": {
    "collapsed": true
   },
   "outputs": [],
   "source": []
  }
 ],
 "metadata": {
  "kernelspec": {
   "display_name": "Python 2",
   "language": "python",
   "name": "python2"
  },
  "language_info": {
   "codemirror_mode": {
    "name": "ipython",
    "version": 2
   },
   "file_extension": ".py",
   "mimetype": "text/x-python",
   "name": "python",
   "nbconvert_exporter": "python",
   "pygments_lexer": "ipython2",
   "version": "2.7.13"
  }
 },
 "nbformat": 4,
 "nbformat_minor": 2
}
